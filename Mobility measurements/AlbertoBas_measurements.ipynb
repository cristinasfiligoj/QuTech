{
 "cells": [
  {
   "cell_type": "markdown",
   "metadata": {},
   "source": [
    "# Initialization"
   ]
  },
  {
   "cell_type": "code",
   "execution_count": 1,
   "metadata": {},
   "outputs": [],
   "source": [
    "%matplotlib inline\n",
    "import os, sys\n",
    "import matplotlib.pyplot as plt\n",
    "import numpy as np\n",
    "from pprint import pprint\n",
    "from tqdm.notebook import tqdm\n",
    "\n",
    "from time import sleep, monotonic, time\n",
    "import datetime as dt\n",
    "\n",
    "import qcodes as qc\n",
    "from qcodes import Parameter\n",
    "from qcodes import initialise_or_create_database_at\n",
    "from qcodes.dataset.plotting import plot_dataset, plot_by_id\n",
    "from qcodes.utils.metadata import diff_param_values\n",
    "from qcodes.instrument.specialized_parameters import ElapsedTimeParameter\n",
    "from qcodes.dataset.measurements import Measurement\n",
    "\n",
    "sys.path.append(\"C:/Users/TUD210595/Documents/LOCAL_Qcodes/scripts\")\n",
    "from sweeps import do1d, do2d, time_sweep, measure_until, do1d_until\n",
    "\n",
    "import warnings\n",
    "warnings.filterwarnings('ignore')"
   ]
  },
  {
   "cell_type": "markdown",
   "metadata": {},
   "source": [
    "To modify list of instruments, eddit file\n",
    "\"C:\\Users\\TUD210595\\Documents\\LOCAL_Qcodes\\scripts\\init_VectorJanis.py\""
   ]
  },
  {
   "cell_type": "code",
   "execution_count": 2,
   "metadata": {},
   "outputs": [
    {
     "name": "stdout",
     "output_type": "stream",
     "text": [
      "Connected to: Cryomagnetics LM-500 (serial:4563, firmware:2.19) in 0.21s\n",
      "Connected to: KEITHLEY INSTRUMENTS DMM6500 (serial:04438025, firmware:1.0.04b) in 0.02s\n",
      "Connected to: KEITHLEY INSTRUMENTS DMM6500 (serial:04441805, firmware:1.0.04b) in 0.02s\n",
      "Connected to: Stanford_Research_Systems SR830 (serial:s/n43606, firmware:ver1.07) in 0.05s\n",
      "Connected to: Stanford_Research_Systems SR830 (serial:s/n43275, firmware:ver1.07) in 0.05s\n",
      "Connected to: LSCI 340 (serial:342554, firmware:061407) in 0.04s\n",
      "Connected to: Cryomagnetics 4G (serial:4559, firmware:1.24,259) in 0.12s\n",
      "Initialized IVVI-rack in 0.04s\n"
     ]
    }
   ],
   "source": [
    "fridge_name = 'VectorJanis'\n",
    "%run C:\\Users\\TUD210595\\Documents\\LOCAL_Qcodes\\scripts\\init_fridge.py {fridge_name}"
   ]
  },
  {
   "cell_type": "markdown",
   "metadata": {},
   "source": [
    "Here are all the instruments we have:"
   ]
  },
  {
   "cell_type": "code",
   "execution_count": 3,
   "metadata": {},
   "outputs": [
    {
     "data": {
      "text/plain": [
       "{'level_meter': <Model_LM500: level_meter>,\n",
       " 'keithley_1': <Keithley_6500: keithley_1>,\n",
       " 'keithley_2': <Keithley_6500: keithley_2>,\n",
       " 'lockin_1': <SR830: lockin_1>,\n",
       " 'lockin_2': <SR830: lockin_2>,\n",
       " 'lakeshore': <Model_340: lakeshore>,\n",
       " 'cryomag': <Model_4G: cryomag>,\n",
       " 'ivvi': <IVVI: ivvi>}"
      ]
     },
     "execution_count": 3,
     "metadata": {},
     "output_type": "execute_result"
    }
   ],
   "source": [
    "station.components"
   ]
  },
  {
   "cell_type": "markdown",
   "metadata": {},
   "source": [
    "Zero dacs and lockin"
   ]
  },
  {
   "cell_type": "code",
   "execution_count": 4,
   "metadata": {},
   "outputs": [],
   "source": [
    "ivvi.set_dacs_zero()\n",
    "lockin_1.amplitude(0.004)"
   ]
  },
  {
   "cell_type": "markdown",
   "metadata": {},
   "source": [
    "## DAC rates"
   ]
  },
  {
   "cell_type": "markdown",
   "metadata": {},
   "source": [
    "Change the dac rate (same idea as with qtlab, but two commands are used)"
   ]
  },
  {
   "cell_type": "code",
   "execution_count": null,
   "metadata": {},
   "outputs": [],
   "source": [
    "ivvi.dac1.step = 50\n",
    "ivvi.dac1.inter_delay = 0.05\n",
    "ivvi.dac2.step = 50\n",
    "ivvi.dac2.inter_delay = 0.05\n",
    "ivvi.dac3.step = 4\n",
    "ivvi.dac3.inter_delay = 0.05"
   ]
  },
  {
   "cell_type": "markdown",
   "metadata": {},
   "source": [
    "## Database initialisation"
   ]
  },
  {
   "cell_type": "markdown",
   "metadata": {},
   "source": [
    "Next, we create a qcodes database, or we can use the existing one"
   ]
  },
  {
   "cell_type": "code",
   "execution_count": 6,
   "metadata": {},
   "outputs": [],
   "source": [
    "#useful if you want to name database with creation date\n",
    "date = str(dt.date.today())\n",
    "db_path = \"C:/Users/TUD210595/Documents/LOCAL_DATA/AlbertoBas\"\n",
    "initialise_or_create_database_at(db_path + \"/\" + \"M157B.db\" )"
   ]
  },
  {
   "cell_type": "markdown",
   "metadata": {},
   "source": [
    "# Scaled parameters"
   ]
  },
  {
   "cell_type": "markdown",
   "metadata": {},
   "source": [
    "It is more convenient to use meaningful parameters with correct units"
   ]
  },
  {
   "cell_type": "code",
   "execution_count": null,
   "metadata": {},
   "outputs": [],
   "source": [
    "from qcodes import ManualParameter, ScaledParameter"
   ]
  },
  {
   "cell_type": "markdown",
   "metadata": {},
   "source": [
    "## Defining scaled parameters. Run ONLY ONCE!"
   ]
  },
  {
   "cell_type": "code",
   "execution_count": null,
   "metadata": {},
   "outputs": [],
   "source": [
    "Irange = Parameter('Irange', label='current range', unit='', set_cmd=None, get_cmd=None)\n",
    "Vrange = Parameter('Vrange', label='voltage range', unit='', set_cmd=None, get_cmd=None)\n",
    "TGrange = Parameter('TGrange', label='Top gate range', unit='', set_cmd=None, get_cmd=None)\n",
    "\n",
    "#division paraemtrs required for simplier update: they used as an argument for scaled paraemtrs of sorce instruments\n",
    "\n",
    "Irange_division = Parameter('Irange_division', \n",
    "                            label='scaled current range', unit='', \n",
    "                            set_cmd=None, get_cmd=lambda : 1000 / Irange())\n",
    "\n",
    "Vrange_division = Parameter('Vrange_division', \n",
    "                            label='scaled voltage range', unit='', \n",
    "                            set_cmd=None, get_cmd=lambda : 1000 / Vrange())\n",
    "\n",
    "TGrange_division = Parameter('TGrange_division', \n",
    "                             label='scaled Top gate range', unit='', \n",
    "                             set_cmd=None, get_cmd=lambda : 1000 / TGrange())\n",
    "\n",
    "Irange_AC_division = Parameter('Irange_AC_division', \n",
    "                               label='scaled current range for lockin', unit='', \n",
    "                               set_cmd=None, get_cmd=lambda : 100 / Irange())\n",
    "\n",
    "Vrange_AC_division = Parameter('Vrange_AC_division', \n",
    "                               label='scaled voltage range for lockin', unit='', \n",
    "                               set_cmd=None, get_cmd=lambda : 100 / Vrange())\n",
    "\n",
    "Gain_K1 = Parameter('Gain_K1', label='Gain K1', unit='', set_cmd=None, get_cmd=None)\n",
    "Gain_K2 = Parameter('Gain_K2', label='Gain K2', unit='', set_cmd=None, get_cmd=None)\n",
    "Gain_L1 = Parameter('Gain_L1', label='Gain L1', unit='', set_cmd=None, get_cmd=None)\n",
    "# Gain_L2 = Parameter('Gain_L2', label='Gain L2', unit='', set_cmd=None, get_cmd=None)\n",
    "\n",
    "#Add components\n",
    "station.add_component(Irange)\n",
    "station.add_component(Vrange)\n",
    "station.add_component(TGrange)\n",
    "\n",
    "station.add_component(Irange_division)\n",
    "station.add_component(Vrange_division)\n",
    "station.add_component(TGrange_division)\n",
    "\n",
    "station.add_component(Irange_AC_division)\n",
    "station.add_component(Vrange_AC_division)\n",
    "                             \n",
    "station.add_component(Gain_K1)\n",
    "station.add_component(Gain_K2)\n",
    "station.add_component(Gain_L1)\n",
    "# station.add_component(Gain_L2)"
   ]
  },
  {
   "cell_type": "markdown",
   "metadata": {},
   "source": [
    "## IVVI rack parameters - UPDATE here DURING measuerements\n",
    "\n",
    "Also can be coppied to execute later"
   ]
  },
  {
   "cell_type": "code",
   "execution_count": null,
   "metadata": {},
   "outputs": [],
   "source": [
    "Irange.set(10e-6)\n",
    "Vrange.set(1e-3)\n",
    "TGrange.set(15)\n",
    "Gain_K1.set(1e2)\n",
    "Gain_K2.set(1e2)\n",
    "Gain_L1.set(Gain_K1())\n",
    "# Gain_L2.set(Gain_K2())\n",
    "\n",
    "#ac_amplitude = 20e-9  # Ampere\n",
    "#ac_amplitude_V = ac_amplitude*100/Irange()  # value in V to read on the lockin amplitude display\n",
    "#lockin_1.amplitude(ac_amplitude_V)\n",
    "#lockin_1.sensitivity(0.002)\n",
    "#lockin_1.frequency(18.7)\n",
    "#lockin_1.phase(180)\n",
    "\n",
    "#lockin_1.time_constant(0.3) #integration time in s\n",
    "\n",
    "#division parameters are updated automatically"
   ]
  },
  {
   "cell_type": "markdown",
   "metadata": {},
   "source": [
    "## DC parameters - assigning devices. RUN ONLY ONCE!\n",
    "Check that devicies are correct!"
   ]
  },
  {
   "cell_type": "code",
   "execution_count": null,
   "metadata": {},
   "outputs": [],
   "source": [
    "appl_current = ScaledParameter(ivvi.dac1, division = Irange_division, name = 'appl_current', unit = 'A')\n",
    "appl_voltage = ScaledParameter(ivvi.dac2, division = Vrange_division, name = 'appl_voltage', unit = 'V')\n",
    "appl_TG = ScaledParameter(ivvi.dac3, division = TGrange_division, name = 'appl_TG', unit = 'V')\n",
    "\n",
    "meas_voltage_K1 = ScaledParameter(keithley_1.amplitude, division = Gain_K1, name = 'meas_voltage_K1', unit = 'V')\n",
    "meas_voltage_K2 = ScaledParameter(keithley_2.amplitude, division = Gain_K2, name = 'meas_voltage_K2', unit = 'V')\n",
    "# meas_voltage_K3 = ScaledParameter(keithley_3.amplitude, division = Gain_K3, name = 'meas_voltage_K3', unit = 'V')\n",
    "meas_leakage = ScaledParameter(keithley_2.amplitude, division = Gain_K2, name = 'meas_leakage', unit = 'A')\n",
    "\n",
    "meas_current_K1 = ScaledParameter(keithley_1.amplitude, division = Gain_K1, name = 'meas_current_K1', unit = 'A')\n",
    "meas_current_K2 = ScaledParameter(keithley_2.amplitude, division = Gain_K2, name = 'meas_current_K2', unit = 'A')\n",
    "# meas_current_K3 = ScaledParameter(keithley_3.amplitude, division = Gain_K3, name = 'meas_current_K3', unit = 'A')\n",
    "\n",
    "station.add_component(appl_current)\n",
    "station.add_component(appl_voltage)\n",
    "station.add_component(appl_TG)\n",
    "station.add_component(meas_voltage_K1)\n",
    "station.add_component(meas_voltage_K2)\n",
    "# station.add_component(meas_voltage_K3)\n",
    "station.add_component(meas_leakage)\n",
    "station.add_component(meas_current_K1)\n",
    "station.add_component(meas_current_K2)\n",
    "# station.add_component(meas_current_K3)"
   ]
  },
  {
   "cell_type": "markdown",
   "metadata": {},
   "source": [
    "### Additional DC parameters - RUN ONLY ONCE"
   ]
  },
  {
   "cell_type": "code",
   "execution_count": null,
   "metadata": {},
   "outputs": [],
   "source": [
    "meas_voltage_K1_zeroA = ScaledParameter(keithley_1.amplitude, division = Gain_K1, name = 'meas_voltage_K1_zeroA', unit = 'V')\n",
    "station.add_component(meas_voltage_K1_zeroA)"
   ]
  },
  {
   "cell_type": "markdown",
   "metadata": {},
   "source": [
    "Reasining devices seems to be missing in public methods of ScaledParameter class... But you can try:"
   ]
  },
  {
   "cell_type": "code",
   "execution_count": null,
   "metadata": {},
   "outputs": [],
   "source": [
    "ivvi.dac1()"
   ]
  },
  {
   "cell_type": "markdown",
   "metadata": {},
   "source": [
    "## AC parameters - RUN ONLY ONCE"
   ]
  },
  {
   "cell_type": "code",
   "execution_count": null,
   "metadata": {},
   "outputs": [],
   "source": [
    "appl_current_AC = ScaledParameter(lockin_1.amplitude, division = Irange_AC_division, name = 'appl_current_AC', unit = 'A')\n",
    "appl_voltage_AC = ScaledParameter(lockin_1.amplitude, division = Vrange_AC_division, name = 'appl_voltage_AC', unit = 'V')\n",
    "\n",
    "station.add_component(appl_current_AC)\n",
    "station.add_component(appl_voltage_AC)\n",
    "\n",
    "meas_voltage_AC_L1 = ScaledParameter(lockin_1.X, division = Gain_L1, name = 'meas_voltage_Lockin1', unit = 'V')\n",
    "\n",
    "meas_current_AC_L1 = ScaledParameter(lockin_1.X, division = Gain_L1, name = 'meas_current_Lockin1', unit = 'A')\n",
    "\n",
    "station.add_component(meas_voltage_AC_L1)\n",
    "station.add_component(meas_current_AC_L1)"
   ]
  },
  {
   "cell_type": "markdown",
   "metadata": {},
   "source": [
    "### Additional AC parameters - RUN ONLY ONCE"
   ]
  },
  {
   "cell_type": "code",
   "execution_count": null,
   "metadata": {
    "scrolled": true
   },
   "outputs": [],
   "source": [
    "## Y-Component of lockin\n",
    "meas_voltage_AC_L1_Y = ScaledParameter(lockin_1.Y, division = Gain_L1, name = 'meas_voltage_Lockin1_Y', unit = 'V')\n",
    "\n",
    "## R-Component of lockin\n",
    "meas_voltage_AC_L1_R = ScaledParameter(lockin_1.R, division = Gain_L1, name = 'meas_voltage_Lockin1_R', unit = 'V')\n",
    "\n",
    "## Phase component of lockin\n",
    "meas_voltage_AC_L1_P = ScaledParameter(lockin_1.P, division = 1, name = 'meas_voltage_Lockin1_P', unit = 'DEG')\n",
    "station.add_component(meas_voltage_AC_L1_Y)\n",
    "station.add_component(meas_voltage_AC_L1_R)\n",
    "station.add_component(meas_voltage_AC_L1_P)"
   ]
  },
  {
   "cell_type": "markdown",
   "metadata": {},
   "source": [
    "## Another useful example: magnet using dac (Janis)"
   ]
  },
  {
   "cell_type": "markdown",
   "metadata": {},
   "source": [
    ">2231.2 G per A => 0.22312 T per A<br>\n",
    "I source 10mA per V => 1e-5 A per 1mV<br>\n",
    "result: 0.22312 T/A * 1e-5 A/mV"
   ]
  },
  {
   "cell_type": "code",
   "execution_count": null,
   "metadata": {},
   "outputs": [],
   "source": [
    "#magnetic_field = ScaledParameter(ivvi.dac3, gain = 0.22312e-5, name = 'magnetic_field_dac', unit = 'T')\n",
    "#station.add_component(magnetic_field)"
   ]
  },
  {
   "cell_type": "markdown",
   "metadata": {},
   "source": [
    "# Fidge controll. Condensing. Magnet"
   ]
  },
  {
   "cell_type": "code",
   "execution_count": null,
   "metadata": {},
   "outputs": [],
   "source": [
    "ivvi.set_dacs_zero()\n",
    "lockin_1.amplitude(0.004)"
   ]
  },
  {
   "cell_type": "code",
   "execution_count": null,
   "metadata": {},
   "outputs": [],
   "source": [
    "lakeshore.output_1.output_range('off')\n",
    "#lakeshore.output_1.setpoint(45.0)\n",
    "# lakeshore.output_1.input_channel('A')\n",
    "#lakeshore.output_1.output_range('2.5W')"
   ]
  },
  {
   "cell_type": "code",
   "execution_count": null,
   "metadata": {},
   "outputs": [],
   "source": [
    "print('Temps: A= {:.2f}, B = {:.4f}, C ={:.4f}'.format(lakeshore.A.temperature(), lakeshore.B.temperature(), lakeshore.C.temperature()) )"
   ]
  },
  {
   "cell_type": "code",
   "execution_count": null,
   "metadata": {},
   "outputs": [],
   "source": [
    "level_meter.print_readable_snapshot(update=True)"
   ]
  },
  {
   "cell_type": "code",
   "execution_count": null,
   "metadata": {},
   "outputs": [],
   "source": [
    "# level_meter.sample_mode('Continuous')\n",
    "# level_meter.sample_mode('Sample/Hold')"
   ]
  },
  {
   "cell_type": "code",
   "execution_count": null,
   "metadata": {},
   "outputs": [],
   "source": [
    "while True:\n",
    "    print('A= {:.2f}, B = {:.4f}, C ={:.4f}, power = {:.2f}'.format(lakeshore.A.temperature(), lakeshore.B.temperature(), lakeshore.C.temperature(), lakeshore.output_1.output()), end = '\\r')\n",
    "    sleep(1)"
   ]
  },
  {
   "cell_type": "code",
   "execution_count": null,
   "metadata": {},
   "outputs": [],
   "source": [
    "while True:\n",
    "    print('He Level = {:.2f}'.format(level_meter.lastval()), end = '\\r')\n",
    "    sleep(1)"
   ]
  },
  {
   "cell_type": "code",
   "execution_count": null,
   "metadata": {},
   "outputs": [],
   "source": [
    "cryomag.print_readable_snapshot(update = True)"
   ]
  },
  {
   "cell_type": "code",
   "execution_count": null,
   "metadata": {},
   "outputs": [],
   "source": [
    "cryomag.channel_B.ask('IMAG?')"
   ]
  },
  {
   "cell_type": "code",
   "execution_count": null,
   "metadata": {},
   "outputs": [],
   "source": [
    "cryomag.channel_B.ask('IOUT?')"
   ]
  },
  {
   "cell_type": "code",
   "execution_count": null,
   "metadata": {},
   "outputs": [],
   "source": [
    "cryomag.channel_B.ask('IMAG?')"
   ]
  },
  {
   "cell_type": "code",
   "execution_count": null,
   "metadata": {},
   "outputs": [],
   "source": [
    "# cryomag.channel_B.write('IMAG 0.0')"
   ]
  },
  {
   "cell_type": "code",
   "execution_count": null,
   "metadata": {},
   "outputs": [],
   "source": [
    "cryomag.channel_B.ask('IOUT?')"
   ]
  },
  {
   "cell_type": "code",
   "execution_count": null,
   "metadata": {},
   "outputs": [],
   "source": [
    "cryomag.channel_B.write('QRESET')"
   ]
  },
  {
   "cell_type": "code",
   "execution_count": null,
   "metadata": {},
   "outputs": [],
   "source": [
    "cryomag.channel_B.write('REMOTE')"
   ]
  },
  {
   "cell_type": "code",
   "execution_count": null,
   "metadata": {},
   "outputs": [],
   "source": [
    "cryomag.channel_B.ask('*STB?')"
   ]
  },
  {
   "cell_type": "code",
   "execution_count": null,
   "metadata": {},
   "outputs": [],
   "source": [
    "cryomag.channel_A.field()"
   ]
  },
  {
   "cell_type": "code",
   "execution_count": null,
   "metadata": {},
   "outputs": [],
   "source": [
    "cryomag.channel_B.field(0)"
   ]
  },
  {
   "cell_type": "code",
   "execution_count": null,
   "metadata": {},
   "outputs": [],
   "source": [
    "cryomag.channel_A.heater('off')\n",
    "cryomag.channel_B.heater('off')"
   ]
  },
  {
   "cell_type": "code",
   "execution_count": null,
   "metadata": {},
   "outputs": [],
   "source": [
    "cryomag.channel_A.write('SWEEP ZERO')\n",
    "cryomag.channel_B.write('SWEEP ZERO')"
   ]
  },
  {
   "cell_type": "code",
   "execution_count": null,
   "metadata": {},
   "outputs": [],
   "source": [
    "print('field 4T magnet = {:.4f} T'.format(cryomag.channel_A.field()) )\n",
    "print('tolerance for set field 4T magnet = {:.1f} mT'.format(cryomag.channel_A.tolerance()) )\n",
    "\n",
    "print('field 9T magnet = {:.4f} T'.format(cryomag.channel_B.field()) )\n",
    "print('tolerance for set field 9T magnet = {:.1f} mT'.format(cryomag.channel_B.tolerance()) )"
   ]
  },
  {
   "cell_type": "markdown",
   "metadata": {},
   "source": [
    "# Standard sweeps: setting parameter"
   ]
  },
  {
   "cell_type": "markdown",
   "metadata": {},
   "source": [
    "## 1D sweeps"
   ]
  },
  {
   "cell_type": "code",
   "execution_count": null,
   "metadata": {
    "scrolled": true
   },
   "outputs": [],
   "source": [
    "# current_AC(1e-6)\n",
    "exp = qc.new_experiment('IV-curve', sample_name='Sn_film_M111B')\n",
    "dataid = do1d(appl_current, -1e-6, 1e-6, 100, 0.2, meas_voltage_K1, meas_voltage_AC_L1)\n",
    "#sweep current from -10uA to 10uA 100 points with 0.2sec delay\n",
    "#records voltage on keithley and lockin\n",
    "ivvi.set_dacs_zero()"
   ]
  },
  {
   "cell_type": "code",
   "execution_count": null,
   "metadata": {},
   "outputs": [],
   "source": [
    "ivvi.set_dacs_zero()"
   ]
  },
  {
   "cell_type": "markdown",
   "metadata": {},
   "source": [
    "\n",
    "### Plotting"
   ]
  },
  {
   "cell_type": "code",
   "execution_count": null,
   "metadata": {
    "scrolled": false
   },
   "outputs": [],
   "source": [
    "plot_by_id(dataid)"
   ]
  },
  {
   "cell_type": "markdown",
   "metadata": {},
   "source": [
    "### Plotting later using list of experiments"
   ]
  },
  {
   "cell_type": "code",
   "execution_count": null,
   "metadata": {},
   "outputs": [],
   "source": [
    "qc.experiments()"
   ]
  },
  {
   "cell_type": "code",
   "execution_count": null,
   "metadata": {
    "scrolled": true
   },
   "outputs": [],
   "source": [
    "dataset = qc.load_by_id(1)\n",
    "plot_dataset(dataset)"
   ]
  },
  {
   "cell_type": "markdown",
   "metadata": {},
   "source": [
    "## 2D sweeps"
   ]
  },
  {
   "cell_type": "code",
   "execution_count": null,
   "metadata": {},
   "outputs": [],
   "source": [
    "exp = qc.new_experiment('IV-curve_vs_dac5', sample_name='simulator_100_Ohm')\n",
    "dataid = do2d(ivvi.dac5, -1, 1, 3, 5, current, -10e-6, 10e-6, 100, 0.2, voltage_DC)\n",
    "#sweep current from -10uA to 10uA 100 points with 0.2sec delay\n",
    "#records voltage on keithley and lockin\n",
    "ivvi.set_dacs_zero()"
   ]
  },
  {
   "cell_type": "code",
   "execution_count": null,
   "metadata": {},
   "outputs": [],
   "source": [
    "plot_by_id(dataid)"
   ]
  },
  {
   "cell_type": "code",
   "execution_count": null,
   "metadata": {},
   "outputs": [],
   "source": [
    "cmap = plt.get_cmap('hot')\n",
    "plot_by_id(dataid, cmap = cmap)\n",
    "plt.savefig('../plots/iv_vs_dac5.pdf')"
   ]
  },
  {
   "cell_type": "markdown",
   "metadata": {},
   "source": [
    "## What if you want to measure vs magnetic field? Use same functions!"
   ]
  },
  {
   "cell_type": "code",
   "execution_count": null,
   "metadata": {},
   "outputs": [],
   "source": [
    "#exp = qc.load_or_create_experiment(experiment_name='IV-curve_vs_Bz', sample_name='simulator_100_Ohm')\n",
    "#dataid = do2d(cryomag.channel_A.field, 0, 0.001, 10, 1, current, -10e-6, 10e-6, 100, 0.2, voltage_DC)\n",
    "#ivvi.set_dacs_zero()"
   ]
  },
  {
   "cell_type": "markdown",
   "metadata": {},
   "source": [
    "# Standard sweeps: measuring without setting value"
   ]
  },
  {
   "cell_type": "markdown",
   "metadata": {},
   "source": [
    "## Measured values versus non-setable parameter"
   ]
  },
  {
   "cell_type": "code",
   "execution_count": null,
   "metadata": {},
   "outputs": [],
   "source": [
    "time = ElapsedTimeParameter('time')\n",
    "\n",
    "def time_limit(time, measured_values):\n",
    "    return time() > 6"
   ]
  },
  {
   "cell_type": "code",
   "execution_count": null,
   "metadata": {},
   "outputs": [],
   "source": [
    "exp = qc.new_experiment('V_vs_time', sample_name='simulator_100_Ohm')\n",
    "current(10e-6)\n",
    "current_AC(1e-6)\n",
    "time.reset_clock()\n",
    "dataid = measure_until(time, time_limit, 1, voltage_DC, voltage_AC)"
   ]
  },
  {
   "cell_type": "code",
   "execution_count": null,
   "metadata": {},
   "outputs": [],
   "source": [
    "plot_by_id(dataid)"
   ]
  },
  {
   "cell_type": "markdown",
   "metadata": {},
   "source": [
    "## Useful for temperature scans and magnet sweeps:"
   ]
  },
  {
   "cell_type": "code",
   "execution_count": null,
   "metadata": {},
   "outputs": [],
   "source": [
    "def temp_limit(temp, measured_values):\n",
    "    return temp() < 0.4\n",
    "\n",
    "exp = qc.new_experiment('V_vs_temp_CD', sample_name='simulator_100_Ohm')\n",
    "current(10e-6)\n",
    "current_AC(1e-6)\n",
    "dataid = measure_until(lakeshore.A.temperature, temp_limit, 1, voltage_DC, voltage_AC)"
   ]
  },
  {
   "cell_type": "code",
   "execution_count": null,
   "metadata": {},
   "outputs": [],
   "source": [
    "end_field = 0.0\n",
    "tolerance = 0.001\n",
    "    \n",
    "def field_reached(field, measured_values):\n",
    "    return np.abs( field()-end_field ) < tolerance\n",
    "\n",
    "exp = qc.new_experiment('V_vs_field', sample_name='simulator_10_kOhm')\n",
    "\n",
    "magnet_z.ramp_rate(0.004)#T/sec\n",
    "magnet_z.set_field(end_field,block=False)\n",
    "#for Sg1: x_target(value), magnet.start_sweep()\n",
    "#measure: magnet.x_measure()\n",
    "dataid = measure_until(magnet_z.field, field_reached, 1, voltage_DC, voltage_AC)"
   ]
  },
  {
   "cell_type": "markdown",
   "metadata": {},
   "source": [
    "### Exit based on measured value"
   ]
  },
  {
   "cell_type": "code",
   "execution_count": null,
   "metadata": {},
   "outputs": [],
   "source": [
    "def voltage_limit(time, measured_values):\n",
    "    return measured_values[0].get() > -0.94e-3\n",
    "\n",
    "exp = qc.new_experiment('V_vs_time', sample_name='simulator_100_Ohm')\n",
    "current(10e-6)\n",
    "current_AC(1e-6)\n",
    "time = ElapsedTimeParameter('time')\n",
    "time.reset_clock()\n",
    "dataid = measure_until(time, voltage_limit, 1, voltage_DC, voltage_AC)"
   ]
  },
  {
   "cell_type": "code",
   "execution_count": null,
   "metadata": {},
   "outputs": [],
   "source": [
    "plot_by_id(dataid)"
   ]
  },
  {
   "cell_type": "markdown",
   "metadata": {},
   "source": [
    "## 1D scan vs non-setable parameter"
   ]
  },
  {
   "cell_type": "code",
   "execution_count": null,
   "metadata": {},
   "outputs": [],
   "source": [
    "time = ElapsedTimeParameter('time')\n",
    "\n",
    "#note that here exit_condition takes two independent parameters and only then measured parameters\n",
    "def time_limit(time, current, measured_values):\n",
    "    return time() > 30\n",
    "\n",
    "exp = qc.new_experiment('IV_vs_time', sample_name='simulator_100_Ohm')\n",
    "current_AC(0.04e-6)\n",
    "time.reset_clock()\n",
    "dataid = do1d_until(time, time_limit, 1, current, -10e-6, 10e-6, 100, 0.2, voltage_DC)"
   ]
  },
  {
   "cell_type": "code",
   "execution_count": null,
   "metadata": {},
   "outputs": [],
   "source": [
    "cmap = plt.get_cmap('hot')\n",
    "plot_by_id(dataid, cmap = cmap)"
   ]
  },
  {
   "cell_type": "markdown",
   "metadata": {},
   "source": [
    "# Custom sweeps"
   ]
  },
  {
   "cell_type": "markdown",
   "metadata": {},
   "source": [
    "## Setting the temperature"
   ]
  },
  {
   "cell_type": "code",
   "execution_count": null,
   "metadata": {},
   "outputs": [],
   "source": [
    "exp = qc.load_or_create_experiment(experiment_name='V-vs-set_temp', sample_name='sample_pd12')\n",
    "lakeshore.output_1.output_range('0.5W')\n",
    "\n",
    "start = 5\n",
    "stop = 12\n",
    "num_points = 30\n",
    "\n",
    "#Register independent parameters\n",
    "meas = Measurement()\n",
    "meas.register_parameter(lakeshore.A.temperature)\n",
    "\n",
    "#Register dependent parametrs\n",
    "param_meas = [voltage_DC, voltage_AC]\n",
    "output = []\n",
    "for parameter in param_meas:\n",
    "    meas.register_parameter(parameter, setpoints=(lakeshore.A.temperature,))\n",
    "    output.append([parameter, None])\n",
    "\n",
    "#Add action at the end\n",
    "meas.add_after_run(lakeshore.output_1.setpoint, (0.0))\n",
    "meas.add_after_run(lakeshore.output_1.setpoint, ('off'))\n",
    "meas.add_after_run(ivvi.set_dacs_zero)\n",
    "\n",
    "#Start measuremnts\n",
    "with meas.run() as datasaver:\n",
    "    for set_point in np.linspace(start, stop, num_points):\n",
    "        #set temperature and wait\n",
    "        lakeshore.output_1.setpoint(set_point)\n",
    "        sleep(10)\n",
    "        for i, parameter in enumerate(param_meas):\n",
    "            output[i][1] = parameter.get()\n",
    "        datasaver.add_result((lakeshore.A.temperature, lakeshore.A.temperature()),\n",
    "                             *output)\n",
    "dataid = datasaver.run_id  # convenient to have for plotting"
   ]
  },
  {
   "cell_type": "markdown",
   "metadata": {},
   "source": [
    "## Gate sweep controlling the leakage"
   ]
  },
  {
   "cell_type": "code",
   "execution_count": null,
   "metadata": {},
   "outputs": [],
   "source": [
    "exp = qc.new_experiment('V_vs_Vgate', sample_name='TL1_1-14')\n",
    "appl_voltage(1e-3)\n",
    "\n",
    "start_gate = 0.0\n",
    "stop_gate = -0.5\n",
    "num_points = 200\n",
    "leak_threshold = 1e-9\n",
    "\n",
    "#Register independent parameters\n",
    "meas = Measurement()\n",
    "meas.register_parameter(appl_TG)\n",
    "appl_TG.post_delay = 0.05\n",
    "\n",
    "#Register dependent parametrs\n",
    "param_meas = [meas_current_K1, meas_leakage]\n",
    "output = []\n",
    "for parameter in param_meas:\n",
    "    meas.register_parameter(parameter, setpoints=(appl_TG,))\n",
    "    output.append([parameter, None])\n",
    "\n",
    "#Add action at the end\n",
    "meas.add_after_run(ivvi.set_dacs_zero, ())\n",
    "\n",
    "appl_TG(start_gate)\n",
    "sleep(2)\n",
    "\n",
    "#Start measuremnts\n",
    "with meas.run() as datasaver:\n",
    "    for set_point in tqdm(np.linspace(start_gate, stop_gate, num_points)):\n",
    "        appl_TG(set_point)\n",
    "        if np.abs(meas_leakage()) > leak_threshold:\n",
    "            print('Leakage detected!')\n",
    "            break\n",
    "        sleep(0.1)\n",
    "        for i, parameter in enumerate(param_meas):\n",
    "            output[i][1] = parameter.get()\n",
    "        datasaver.add_result((appl_TG, appl_TG()),\n",
    "                             *output)\n",
    "dataid = datasaver.run_id  # convenient to have for plotting\n",
    "plot_by_id(dataid)"
   ]
  },
  {
   "cell_type": "markdown",
   "metadata": {},
   "source": [
    "# Snapshots"
   ]
  },
  {
   "cell_type": "code",
   "execution_count": null,
   "metadata": {},
   "outputs": [],
   "source": [
    "dataset = qc.load_by_id(1)\n",
    "dataset.snapshot['station']"
   ]
  },
  {
   "cell_type": "code",
   "execution_count": null,
   "metadata": {},
   "outputs": [],
   "source": [
    "dataset.snapshot['station']['parameters']['current_AC']"
   ]
  },
  {
   "cell_type": "code",
   "execution_count": null,
   "metadata": {},
   "outputs": [],
   "source": [
    "dataset.snapshot['station']['instruments']['ivvi']"
   ]
  },
  {
   "cell_type": "code",
   "execution_count": null,
   "metadata": {},
   "outputs": [],
   "source": [
    "pprint(diff_param_values(qc.load_by_id(1).snapshot, qc.load_by_id(2).snapshot).changed)"
   ]
  },
  {
   "cell_type": "markdown",
   "metadata": {},
   "source": [
    "# AlbertoBas Measurements"
   ]
  },
  {
   "cell_type": "markdown",
   "metadata": {},
   "source": [
    "## Voltage vs Temperature w/ constant DC current"
   ]
  },
  {
   "cell_type": "code",
   "execution_count": null,
   "metadata": {},
   "outputs": [],
   "source": [
    "ivvi.set_dacs_zero()"
   ]
  },
  {
   "cell_type": "code",
   "execution_count": null,
   "metadata": {
    "scrolled": true
   },
   "outputs": [],
   "source": [
    "## Apply a constant current in Ampere\n",
    "appl_current(10e-6)\n",
    "## Set exit condition based on registered temperature\n",
    "def temp_limit(temp, measured_values):\n",
    "    return temp() > 300\n",
    "\n",
    "exp = qc.new_experiment('V_vs_Temp', sample_name='Sn_film_M111_20uA_Tto300')\n",
    "\n",
    "## Set a delay in seconds\n",
    "delay = 0.5\n",
    "    \n",
    "## Measure 'meas_voltage_K1' against 'lakeshore.C.temperature' until temp_limit is satisfied\n",
    "dataid = measure_until(lakeshore.B.temperature, temp_limit, delay,meas_voltage_K1, meas_voltage_AC_L1,meas_voltage_AC_L1_Y,meas_voltage_AC_L1_R,meas_voltage_AC_L1_P, lakeshore.C.temperature)\n",
    "ivvi.set_dacs_zero()\n"
   ]
  },
  {
   "cell_type": "code",
   "execution_count": null,
   "metadata": {},
   "outputs": [],
   "source": [
    "plot_by_id(dataid)"
   ]
  },
  {
   "cell_type": "markdown",
   "metadata": {},
   "source": [
    "## Voltage vs Temperature w/ removing zero current bias"
   ]
  },
  {
   "cell_type": "code",
   "execution_count": null,
   "metadata": {
    "scrolled": true
   },
   "outputs": [],
   "source": [
    "## Same experiment as in (8.1)\n",
    "## Zero-current bias voltage is subtracted from measured voltage\n",
    "\n",
    "\n",
    "## Set time between zero-current checks in seconds\n",
    "timer_z = ElapsedTimeParameter('z_time')\n",
    "zero_time = 10\n",
    "\n",
    "## get initial zero current bias:\n",
    "ivvi.set_dacs_zero()\n",
    "sleep(0.1)\n",
    "zero_current_bias = meas_voltage_K1.get()\n",
    "print(\"Zero current bias : {}\".format(zero_current_bias))\n",
    "\n",
    "## set initial current in Amperes\n",
    "appl_current.set(10e-6)\n",
    "\n",
    "## initialize experiment with description and sample name\n",
    "exp = qc.new_experiment('V_vs_Temp', sample_name='Sn_film_M157B__10uA')\n",
    "\n",
    "## set exit condition function based on registered temperature\n",
    "def exit_condition(temp, measured_values):\n",
    "    return temp() < 2.5\n",
    "\n",
    "## Set delay between measurements (note: also affects checking if the reversal_time/zero_time has passed)\n",
    "delay = 0.5\n",
    "\n",
    "## Register independent parameters\n",
    "param_ind = lakeshore.B.temperature\n",
    "meas = Measurement()\n",
    "meas.register_parameter(param_ind)\n",
    "output = []\n",
    "\n",
    "## Register dependent parameters\n",
    "param_meas = [meas_voltage_K1, meas_voltage_AC_L1,meas_voltage_AC_L1_Y,meas_voltage_AC_L1_R,meas_voltage_AC_L1_P, meas_voltage_K1_zeroA]\n",
    "for parameter in param_meas:\n",
    "    meas.register_parameter(parameter, setpoints=(param_ind,))\n",
    "    output.append([parameter, None])\n",
    "\n",
    "## Collect data until exit_condition is met\n",
    "with meas.run() as datasaver:\n",
    "    timer_z.reset_clock()\n",
    "    while not exit_condition(param_ind, param_meas):\n",
    "        ## check times\n",
    "        if timer_z() > zero_time:\n",
    "            prev_current = appl_current()\n",
    "            appl_current.set(0)\n",
    "            ## Sleep for 0.5 seconds and get the zero current bias\n",
    "            sleep(0.25)\n",
    "            zero_current_bias = meas_voltage_K1.get()\n",
    "            #print(\"Zero current bias at T = {}K  : {}\".format(param_ind.get(),zero_current_bias))\n",
    "            ## Set current back to previous value\n",
    "            appl_current.set(prev_current)\n",
    "            sleep(0.25)\n",
    "            timer_z.reset_clock()\n",
    "            \n",
    "        for i, parameter in enumerate(param_meas):\n",
    "            if(parameter != meas_voltage_K1_zeroA):\n",
    "                output[i][1] = parameter.get() \n",
    "            else:\n",
    "                output[i][1] = zero_current_bias\n",
    "            \n",
    "        datasaver.add_result((param_ind, param_ind.get()),*output)\n",
    "        sleep(delay)\n",
    "\n",
    "dataid = datasaver.run_id\n",
    "ivvi.set_dacs_zero()\n"
   ]
  },
  {
   "cell_type": "markdown",
   "metadata": {},
   "source": [
    "## Voltage vs Magnetic Field w/ constant DC current"
   ]
  },
  {
   "cell_type": "code",
   "execution_count": null,
   "metadata": {},
   "outputs": [],
   "source": [
    "## get initial zero current bias:\n",
    "ivvi.set_dacs_zero()\n",
    "zero_current_bias = meas_voltage_K1.get()\n",
    "print(\"Initial voltage for 0 applied current: {}\".format(zero_current_bias))\n",
    "## Apply a constant current in Ampere\n",
    "appl_current.set(10e-6)\n",
    "delay = 5\n",
    "\n",
    "exp = qc.new_experiment('V_vs_field_x', sample_name='Sn_film_M157_10uA__SweepingBx')\n",
    "dataid = do1d(cryomag.channel_A.field, 0, 0.12, 400, delay,  meas_voltage_K1, meas_voltage_AC_L1, meas_voltage_AC_L1_Y,meas_voltage_AC_L1_P, lakeshore.C.temperature)\n",
    "ivvi.set_dacs_zero()"
   ]
  },
  {
   "cell_type": "markdown",
   "metadata": {},
   "source": [
    "## Voltage vs Magnetic Field w/ recording zero current bias"
   ]
  },
  {
   "cell_type": "code",
   "execution_count": null,
   "metadata": {},
   "outputs": [],
   "source": [
    "## Apply a constant current in Ampere\n",
    "appl_current.set(0)\n",
    "## get the zero current bias\n",
    "zero_current_bias = meas_voltage_K1.get()\n",
    "print(\"Initial bias: {}V\".format(zero_current_bias))\n",
    "appl_current.set(10e-6)\n",
    "exp = qc.new_experiment('V_vs_field', sample_name='Sn_film_M144_10uA_0.1T-0.5T')\n",
    "\n",
    "## Set a delay in seconds\n",
    "delay = 5\n",
    "\n",
    "## Register independent parameter\n",
    "param_set = cryomag.channel_A.field\n",
    "meas = Measurement()\n",
    "meas.register_parameter(param_set)  \n",
    "output = []\n",
    "\n",
    "## Set start, stop, num points and delay\n",
    "start = 0\n",
    "stop = 0.1\n",
    "num_point = 100  \n",
    "param_set.post_delay = delay\n",
    "\n",
    "## Register dependent parameters\n",
    "param_meas = [meas_voltage_K1, meas_voltage_AC_L1, lakeshore.C.temperature]\n",
    "for parameter in param_meas:\n",
    "    meas.register_parameter(parameter, setpoints=(param_set,))\n",
    "    output.append([parameter, None])\n",
    "\n",
    "with meas.run() as datasaver:\n",
    "    for set_point in tqdm(np.linspace(start, stop, num_points)):\n",
    "        param_set.set(set_point)\n",
    "        for i, parameter in enumerate(param_meas):\n",
    "            output[i][1] = parameter.get()\n",
    "        datasaver.add_result((param_set, set_point),\n",
    "                             *output)\n",
    "        \n",
    "        ## Get the zero current bias \n",
    "        prev_current = appl_current()\n",
    "        appl_current.set(0)\n",
    "        ## Sleep for 0.2 seconds and get the zero current bias\n",
    "        sleep(0.2)\n",
    "        zero_current_bias = meas_voltage_K1.get()\n",
    "        print(\"Zero current bias at B = {}T  : {}\".format(set_point,zero_current_bias))\n",
    "        ## Set current back to previous value\n",
    "        appl_current.set(prev_current)\n",
    "        sleep(0.2)\n",
    "        \n",
    "dataid = datasaver.run_id \n"
   ]
  },
  {
   "cell_type": "code",
   "execution_count": null,
   "metadata": {},
   "outputs": [],
   "source": [
    "ivvi.set_dacs_zero()"
   ]
  },
  {
   "cell_type": "markdown",
   "metadata": {},
   "source": [
    "## Voltage vs Magnetic Field w/ Do1D forward+backward"
   ]
  },
  {
   "cell_type": "code",
   "execution_count": null,
   "metadata": {},
   "outputs": [],
   "source": [
    "cryomag.channel_A.field.set(0.08)\n",
    "sleep(50)\n",
    "\n",
    "exp = qc.new_experiment('V_vs_field_x', sample_name='Sn_film_M111_0uA_Bx__phase')\n",
    "param   _set = cryomag.channel_A.field\n",
    "start = 0.08\n",
    "stop = 0.02\n",
    "num_points = 120\n",
    "delay = 3\n",
    "param_meas = [meas_voltage_AC_L1,meas_voltage_AC_L1_Y,meas_voltage_AC_L1_R,meas_voltage_AC_L1_P, lakeshore.C.temperature]\n",
    "\n",
    "meas = Measurement()\n",
    "meas.register_parameter(param_set)  # register the first independent parameter\n",
    "output = []\n",
    "param_set.post_delay = delay\n",
    "\n",
    "for parameter in param_meas:\n",
    "    meas.register_parameter(parameter, setpoints=(param_set,))\n",
    "    output.append([parameter, None])\n",
    "\n",
    "with meas.run() as datasaver:\n",
    "    forwards = np.linspace(start, stop, num_points)\n",
    "    backwards = np.linspace(stop, start, num_points)\n",
    "    setpoints = np.append(forwards,backwards)\n",
    "    \n",
    "    for set_point in tqdm(setpoints):\n",
    "        param_set.set(set_point)\n",
    "        for i, parameter in enumerate(param_meas):\n",
    "            output[i][1] = parameter.get()\n",
    "        datasaver.add_result((param_set, set_point),*output)\n",
    "dataid = datasaver.run_id  # convenient to have for plotting\n"
   ]
  },
  {
   "cell_type": "code",
   "execution_count": 3,
   "metadata": {},
   "outputs": [],
   "source": [
    "from qcodes import load_or_create_experiment"
   ]
  },
  {
   "cell_type": "code",
   "execution_count": 4,
   "metadata": {},
   "outputs": [],
   "source": [
    "from qcodes.dataset.experiment_container import load_experiment"
   ]
  },
  {
   "cell_type": "code",
   "execution_count": 210,
   "metadata": {},
   "outputs": [
    {
     "data": {
      "text/plain": [
       "Text(0.5, 0, 'Temperature [K]')"
      ]
     },
     "execution_count": 210,
     "metadata": {},
     "output_type": "execute_result"
    },
    {
     "data": {
      "image/png": "[encoded data removed]",
      "text/plain": [
       "<Figure size 432x288 with 1 Axes>"
      ]
     },
     "metadata": {
      "needs_background": "light"
     },
     "output_type": "display_data"
    }
   ],
   "source": [
    "exp = load_experiment(19)\n",
    "dataset = exp.data_set(1)\n",
    "volt = dataset.get_parameter_data('meas_voltage_K1')\n",
    "volt2 = dataset.get_parameter_data('meas_voltage_K1_zeroA')\n",
    "\n",
    "volt_data = volt.get('meas_voltage_K1').get('meas_voltage_K1')\n",
    "volt_data_zero  = volt2.get('meas_voltage_K1_zeroA').get('meas_voltage_K1_zeroA')\n",
    "temp = volt.get('meas_voltage_K1').get('lakeshore_B_temperature')\n",
    "\n",
    "\n",
    "end = 20000\n",
    "interv = 400\n",
    "resistance = (volt_data[:end:interv] - volt_data_zero[:end:interv])/(10**-6)\n",
    "plt.plot(temp[:end:interv], resistance, marker = 'x', color = 'maroon')\n",
    "plt.ylabel('Resistance [Ohm]')\n",
    "plt.xlabel('Temperature [K]')\n",
    "#volt_zero = dataset.get_parameter_data('meas_voltage_K1_zeroA')"
   ]
  },
  {
   "cell_type": "code",
   "execution_count": 8,
   "metadata": {},
   "outputs": [
    {
     "name": "stdout",
     "output_type": "stream",
     "text": [
      "results #18@C:\\Users\\TUD210595\\Documents\\LOCAL_DATA\\AlbertoBas\\M157B.db\n",
      "-----------------------------------------------------------------------\n",
      "lakeshore_B_temperature - numeric\n",
      "meas_voltage_K1 - numeric\n",
      "meas_voltage_Lockin1 - numeric\n",
      "meas_voltage_Lockin1_Y - numeric\n",
      "meas_voltage_Lockin1_R - numeric\n",
      "meas_voltage_Lockin1_P - numeric\n",
      "meas_voltage_K1_zeroA - numeric\n"
     ]
    }
   ],
   "source": [
    "     \n",
    "exp = load_experiment(19)\n",
    "dataset = exp.data_set(1)\n",
    "print(dataset)"
   ]
  },
  {
   "cell_type": "code",
   "execution_count": 9,
   "metadata": {},
   "outputs": [
    {
     "name": "stdout",
     "output_type": "stream",
     "text": [
      "{'meas_voltage_K1': {'meas_voltage_K1': array([ -3.20480400e-05,  -3.21024200e-05,  -3.20644900e-05, ...,\n",
      "        -6.17527800e-06,  -6.17087500e-06,  -6.16256600e-06]), 'lakeshore_B_temperature': array([ 233.722,  233.683,  233.643, ...,   44.047,   44.048,   44.048])}}\n"
     ]
    }
   ],
   "source": [
    "volt = dataset.get_parameter_data('meas_voltage_K1')\n",
    "print(volt)\n"
   ]
  },
  {
   "cell_type": "code",
   "execution_count": 10,
   "metadata": {
    "scrolled": true
   },
   "outputs": [
    {
     "name": "stdout",
     "output_type": "stream",
     "text": [
      "[ -3.20480400e-05  -3.21024200e-05  -3.20644900e-05 ...,  -6.17527800e-06\n",
      "  -6.17087500e-06  -6.16256600e-06]\n"
     ]
    }
   ],
   "source": [
    "volt_data = volt.get('meas_voltage_K1').get('meas_voltage_K1')\n",
    "print(volt_data)\n"
   ]
  },
  {
   "cell_type": "code",
   "execution_count": 228,
   "metadata": {},
   "outputs": [
    {
     "name": "stdout",
     "output_type": "stream",
     "text": [
      "286.543\n"
     ]
    },
    {
     "data": {
      "image/png": "[encoded data removed]",
      "text/plain": [
       "<Figure size 432x288 with 1 Axes>"
      ]
     },
     "metadata": {
      "needs_background": "light"
     },
     "output_type": "display_data"
    }
   ],
   "source": [
    "exp = load_experiment(45)\n",
    "dataset = exp.data_set(1)\n",
    "volt = dataset.get_parameter_data('meas_voltage_K1')\n",
    "volt2 = dataset.get_parameter_data('meas_voltage_K1_zeroA')\n",
    "\n",
    "volt_data = volt.get('meas_voltage_K1').get('meas_voltage_K1')\n",
    "volt_data_zero  = volt2.get('meas_voltage_K1_zeroA').get('meas_voltage_K1_zeroA')\n",
    "temp = volt.get('meas_voltage_K1').get('lakeshore_B_temperature')\n",
    "end = 15000\n",
    "interv = 50\n",
    "resistance = (volt_data[:end:interv] - volt_data_zero[:end:interv])/(10*10**-6)\n",
    "plt.plot(temp[:end:interv], resistance, color = 'maroon', marker = 'x')\n",
    "plt.ylabel('Resistance [Ohm]')\n",
    "plt.xlabel('Temperature [K]')\n",
    "#volt_zero = dataset.get_parameter_data('meas_voltage_K1_zeroA')\n",
    "print(temp[end])"
   ]
  },
  {
   "cell_type": "code",
   "execution_count": 154,
   "metadata": {},
   "outputs": [],
   "source": [
    "ivvi.set_dacs_zero()"
   ]
  },
  {
   "cell_type": "code",
   "execution_count": null,
   "metadata": {},
   "outputs": [],
   "source": []
  }
 ],
 "metadata": {
  "kernelspec": {
   "display_name": "Python 3",
   "language": "python",
   "name": "python3"
  },
  "language_info": {
   "codemirror_mode": {
    "name": "ipython",
    "version": 3
   },
   "file_extension": ".py",
   "mimetype": "text/x-python",
   "name": "python",
   "nbconvert_exporter": "python",
   "pygments_lexer": "ipython3",
   "version": "3.9.2"
  },
  "toc": {
   "base_numbering": 1,
   "nav_menu": {},
   "number_sections": true,
   "sideBar": false,
   "skip_h1_title": false,
   "title_cell": "Table of Contents",
   "title_sidebar": "Contents",
   "toc_cell": false,
   "toc_position": {
    "height": "622.667px",
    "left": "21px",
    "top": "65.7778px",
    "width": "240px"
   },
   "toc_section_display": true,
   "toc_window_display": true
  }
 },
 "nbformat": 4,
 "nbformat_minor": 2
}
